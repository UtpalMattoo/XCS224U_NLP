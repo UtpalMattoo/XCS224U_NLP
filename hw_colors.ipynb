{
  "nbformat": 4,
  "nbformat_minor": 0,
  "metadata": {
    "kernelspec": {
      "display_name": "Python 3",
      "language": "python",
      "name": "python3"
    },
    "language_info": {
      "codemirror_mode": {
        "name": "ipython",
        "version": 3
      },
      "file_extension": ".py",
      "mimetype": "text/x-python",
      "name": "python",
      "nbconvert_exporter": "python",
      "pygments_lexer": "ipython3",
      "version": "3.7.6"
    },
    "colab": {
      "name": "hw_colors.ipynb",
      "provenance": []
    }
  },
  "cells": [
    {
      "cell_type": "markdown",
      "metadata": {
        "id": "T5oGkFe1sTF6"
      },
      "source": [
        "# Homework and bake-off: pragmatic color descriptions"
      ]
    },
    {
      "cell_type": "code",
      "metadata": {
        "id": "L9fKjdA2sTGB"
      },
      "source": [
        "# http://web.stanford.edu/class/cs224n/materials/CS224N_PyTorch_Tutorial.html\n",
        "__author__ = \"Christopher Potts\"\n",
        "__version__ = \"CS224u, Stanford, Fall 2020\""
      ],
      "execution_count": null,
      "outputs": []
    },
    {
      "cell_type": "code",
      "metadata": {
        "colab": {
          "base_uri": "https://localhost:8080/"
        },
        "id": "RfQqN_Ts8Ijn",
        "outputId": "81bc0a4e-c30e-45b0-9e17-d2693ba291bd"
      },
      "source": [
        "# !ls -ltra\n",
        "from google.colab import drive\n",
        "drive.mount('/content/drive')\n",
        "\n",
        "# # repo clone if not done\n",
        "# !git clone https://github.com/cgpotts/cs224u.git\n",
        "\n",
        "# wget data if not done\n",
        "# download course dataset\n",
        "# !cd drive/My\\ Drive/cs224u  && wget http://web.stanford.edu/class/cs224u/data/data.tgz\n",
        "# !cd drive/My\\ Drive/cs224u && tar -zxvf data.tgz\n",
        "# download glove\n",
        "# !mkdir -p drive/My\\ Drive/cs224u/data/glove.6B\n",
        "# !cd drive/My\\ Drive/cs224u/data/glove.6B  && wget http://nlp.stanford.edu/data/glove.6B.zip\n",
        "\n",
        "# !cd drive/My\\ Drive/cs224u/data/glove.6B && unzip glove.6B.zip\n",
        "\n",
        "# !cd drive/My\\ Drive/cs224u && pip install -r requirements.txt\n",
        "! cp drive/My\\ Drive/cs224u/*.py ."
      ],
      "execution_count": null,
      "outputs": [
        {
          "output_type": "stream",
          "text": [
            "Mounted at /content/drive\n"
          ],
          "name": "stdout"
        }
      ]
    },
    {
      "cell_type": "markdown",
      "metadata": {
        "id": "Q1FCIb_BsTGC"
      },
      "source": [
        "## Contents\n",
        "\n",
        "1. [Overview](#Overview)\n",
        "1. [Set-up](#Set-up)\n",
        "1. [All two-word examples as a dev corpus](#All-two-word-examples-as-a-dev-corpus)\n",
        "1. [Dev dataset](#Dev-dataset)\n",
        "1. [Random train–test split for development](#Random-train–test-split-for-development)\n",
        "1. [Question 1: Improve the tokenizer [1 point]](#Question-1:-Improve-the-tokenizer-[1-point])\n",
        "1. [Use the tokenizer](#Use-the-tokenizer)\n",
        "1. [Question 2: Improve the color representations [1 point]](#Question-2:-Improve-the-color-representations-[1-point])\n",
        "1. [Use the color representer](#Use-the-color-representer)\n",
        "1. [Initial model](#Initial-model)\n",
        "1. [Question 3: GloVe embeddings [1 point]](#Question-3:-GloVe-embeddings-[1-point])\n",
        "1. [Try the GloVe representations](#Try-the-GloVe-representations)\n",
        "1. [Question 4: Color context [3 points]](#Question-4:-Color-context-[3-points])\n",
        "1. [Your original system [3 points]](#Your-original-system-[3-points])\n",
        "1. [Bakeoff [1 point]](#Bakeoff-[1-point])"
      ]
    },
    {
      "cell_type": "markdown",
      "metadata": {
        "id": "3lfnAE8HsTGD"
      },
      "source": [
        "## Overview\n",
        "\n",
        "This homework and associated bake-off are oriented toward building an effective system for generating color descriptions that are pragmatic in the sense that they would help a reader/listener figure out which color was being referred to in a shared context consisting of a target color (whose identity is known only to the describer/speaker) and a set of distractors.\n",
        "\n",
        "The notebook [colors_overview.ipynb](colors_overview.ipynb) should be studied before work on this homework begins. That notebook provides backgroud on the task, the dataset, and the modeling code that you will be using and adapting.\n",
        "\n",
        "The homework questions are more open-ended than previous ones have been. Rather than asking you to implement pre-defined functionality, they ask you to try to improve baseline components of the full system in ways that you find to be effective. As usual, this culminates in a prompt asking you to develop a novel system for entry into the bake-off. In this case, though, the work you do for the homework will likely be directly incorporated into that system (not required, but an efficient way to work at the very least)."
      ]
    },
    {
      "cell_type": "markdown",
      "metadata": {
        "id": "QuEoTMEUsTGD"
      },
      "source": [
        "## Set-up"
      ]
    },
    {
      "cell_type": "markdown",
      "metadata": {
        "id": "skEOd7fPsTGE"
      },
      "source": [
        "See [colors_overview.ipynb](colors_overview.ipynb) for set-up in instructions and other background details."
      ]
    },
    {
      "cell_type": "code",
      "metadata": {
        "id": "HRmMv4SFsTGE"
      },
      "source": [
        "from colors import ColorsCorpusReader\n",
        "from nltk.translate.bleu_score import corpus_bleu\n",
        "import numpy as np\n",
        "import os\n",
        "from sklearn.model_selection import train_test_split\n",
        "from torch_color_describer import (\n",
        "    ContextualColorDescriber, create_example_dataset)\n",
        "import utils\n",
        "from utils import START_SYMBOL, END_SYMBOL, UNK_SYMBOL"
      ],
      "execution_count": null,
      "outputs": []
    },
    {
      "cell_type": "code",
      "metadata": {
        "id": "goCYaYR6sTGE"
      },
      "source": [
        "utils.fix_random_seeds()"
      ],
      "execution_count": null,
      "outputs": []
    },
    {
      "cell_type": "code",
      "metadata": {
        "id": "tgvOpwobsTGF",
        "colab": {
          "base_uri": "https://localhost:8080/"
        },
        "outputId": "655b2c37-eeda-41b2-c5d2-fd546e8c4531"
      },
      "source": [
        "COLORS_SRC_FILENAME = os.path.join(\n",
        "    \"data\", \"colors\", \"filteredCorpus.csv\")\n",
        "\n",
        "print (COLORS_SRC_FILENAME)"
      ],
      "execution_count": null,
      "outputs": [
        {
          "output_type": "stream",
          "text": [
            "data/colors/filteredCorpus.csv\n"
          ],
          "name": "stdout"
        }
      ]
    },
    {
      "cell_type": "markdown",
      "metadata": {
        "id": "pzwIVF_ysTGG"
      },
      "source": [
        "## All two-word examples as a dev corpus\n",
        "\n",
        "So that you don't have to sit through excessively long training runs during development, I suggest working with the two-word-only subset of the corpus until you enter into the late stages of system testing."
      ]
    },
    {
      "cell_type": "code",
      "metadata": {
        "id": "ZqII6jFUsTGG"
      },
      "source": [
        "dev_corpus = ColorsCorpusReader(\n",
        "    COLORS_SRC_FILENAME,\n",
        "    word_count=2,\n",
        "    normalize_colors=True)"
      ],
      "execution_count": null,
      "outputs": []
    },
    {
      "cell_type": "code",
      "metadata": {
        "colab": {
          "base_uri": "https://localhost:8080/"
        },
        "id": "37ZATwI3_Dwk",
        "outputId": "e1da2a04-0394-4efe-c66a-a2be6a4b5f65"
      },
      "source": [
        "from google.colab import drive\n",
        "drive.mount('/content/drive')"
      ],
      "execution_count": null,
      "outputs": [
        {
          "output_type": "stream",
          "text": [
            "Drive already mounted at /content/drive; to attempt to forcibly remount, call drive.mount(\"/content/drive\", force_remount=True).\n"
          ],
          "name": "stdout"
        }
      ]
    },
    {
      "cell_type": "code",
      "metadata": {
        "id": "3TXcszXYsTGG",
        "colab": {
          "base_uri": "https://localhost:8080/"
        },
        "outputId": "1ea99deb-ba2a-47ac-a212-d360f117e199"
      },
      "source": [
        "print (dev_corpus.normalize_colors)"
      ],
      "execution_count": null,
      "outputs": [
        {
          "output_type": "stream",
          "text": [
            "True\n"
          ],
          "name": "stdout"
        }
      ]
    },
    {
      "cell_type": "code",
      "metadata": {
        "id": "fz9tZ_xFsTGH"
      },
      "source": [
        "a=[]\n",
        "a = next(dev_corpus.read())\n",
        "print (a)\n",
        "print (type(a))\n",
        "dev_examples = list(dev_corpus.read())\n",
        "print (type(dev_examples))"
      ],
      "execution_count": null,
      "outputs": []
    },
    {
      "cell_type": "markdown",
      "metadata": {
        "id": "o2qRaF69sTGH"
      },
      "source": [
        "This subset has about one-third the examples of the full corpus:"
      ]
    },
    {
      "cell_type": "code",
      "metadata": {
        "id": "eT8jAQPCsTGH",
        "outputId": "491a4356-668a-45b6-899f-b3959363d9a1"
      },
      "source": [
        "len(dev_examples)\n",
        "print (dev_examples[0].display())\n",
        "print (dev_examples[0].__str__())"
      ],
      "execution_count": null,
      "outputs": [
        {
          "output_type": "stream",
          "text": [
            "Medium pink\n",
            "None\n",
            "Medium pink\n"
          ],
          "name": "stdout"
        },
        {
          "output_type": "display_data",
          "data": {
            "image/png": "[encoded data removed]",
            "text/plain": [
              "<Figure size 216x72 with 3 Axes>"
            ]
          },
          "metadata": {
            "tags": [],
            "needs_background": "light"
          }
        }
      ]
    },
    {
      "cell_type": "markdown",
      "metadata": {
        "id": "f9688xfNsTGI"
      },
      "source": [
        "We __should__ worry that it's not a fully representative sample. Most of the descriptions in the full corpus are shorter, and a large proportion are longer. So this dataset is mainly for debugging, development, and general hill-climbing. All findings should be validated on the full dataset at some point."
      ]
    },
    {
      "cell_type": "markdown",
      "metadata": {
        "id": "cIIBumcCsTGI"
      },
      "source": [
        "## Dev dataset\n",
        "\n",
        "The first step is to extract the raw color and raw texts from the corpus:"
      ]
    },
    {
      "cell_type": "code",
      "metadata": {
        "id": "oDfnJ_3qsTGI",
        "colab": {
          "base_uri": "https://localhost:8080/",
          "height": 175
        },
        "outputId": "79e1150a-46df-47c9-8941-58c929ece2b0"
      },
      "source": [
        "dev_rawcols, dev_texts = zip(*[[ex.colors, ex.contents] for ex in dev_examples])\n",
        "# print (list(zip(*[[[1,2],[3,4]], [[3,4],[5,6]]])))"
      ],
      "execution_count": null,
      "outputs": [
        {
          "output_type": "error",
          "ename": "NameError",
          "evalue": "ignored",
          "traceback": [
            "\u001b[0;31m---------------------------------------------------------------------------\u001b[0m",
            "\u001b[0;31mNameError\u001b[0m                                 Traceback (most recent call last)",
            "\u001b[0;32m<ipython-input-1-9ffd61168524>\u001b[0m in \u001b[0;36m<module>\u001b[0;34m()\u001b[0m\n\u001b[0;32m----> 1\u001b[0;31m \u001b[0mdev_rawcols\u001b[0m\u001b[0;34m,\u001b[0m \u001b[0mdev_texts\u001b[0m \u001b[0;34m=\u001b[0m \u001b[0mzip\u001b[0m\u001b[0;34m(\u001b[0m\u001b[0;34m*\u001b[0m\u001b[0;34m[\u001b[0m\u001b[0;34m[\u001b[0m\u001b[0mex\u001b[0m\u001b[0;34m.\u001b[0m\u001b[0mcolors\u001b[0m\u001b[0;34m,\u001b[0m \u001b[0mex\u001b[0m\u001b[0;34m.\u001b[0m\u001b[0mcontents\u001b[0m\u001b[0;34m]\u001b[0m \u001b[0;32mfor\u001b[0m \u001b[0mex\u001b[0m \u001b[0;32min\u001b[0m \u001b[0mdev_examples\u001b[0m\u001b[0;34m]\u001b[0m\u001b[0;34m)\u001b[0m\u001b[0;34m\u001b[0m\u001b[0;34m\u001b[0m\u001b[0m\n\u001b[0m\u001b[1;32m      2\u001b[0m \u001b[0;31m# print (list(zip(*[[[1,2],[3,4]], [[3,4],[5,6]]])))\u001b[0m\u001b[0;34m\u001b[0m\u001b[0;34m\u001b[0m\u001b[0;34m\u001b[0m\u001b[0m\n",
            "\u001b[0;31mNameError\u001b[0m: name 'dev_examples' is not defined"
          ]
        }
      ]
    },
    {
      "cell_type": "markdown",
      "metadata": {
        "id": "yqrE5cmzsTGI"
      },
      "source": [
        "The raw color representations are suitable inputs to a model, but the texts are just strings, so they can't really be processed as-is. Question 1 asks you to do some tokenizing!"
      ]
    },
    {
      "cell_type": "markdown",
      "metadata": {
        "id": "GmYLnNcbsTGJ"
      },
      "source": [
        "## Random train–test split for development\n",
        "\n",
        "For the sake of development runs, we create a random train–test split:"
      ]
    },
    {
      "cell_type": "code",
      "metadata": {
        "id": "bATJmLLksTGJ"
      },
      "source": [
        "dev_rawcols_train, dev_rawcols_test, dev_texts_train, dev_texts_test = \\\n",
        "    train_test_split(dev_rawcols, dev_texts)"
      ],
      "execution_count": null,
      "outputs": []
    },
    {
      "cell_type": "markdown",
      "metadata": {
        "id": "iZQfrD4bsTGJ"
      },
      "source": [
        "## Question 1: Improve the tokenizer [1 point]\n",
        "\n",
        "This is the first required question – the first required modification to the default pipeline.\n",
        "\n",
        "The function `tokenize_example` simply splits its string on whitespace and adds the required start and end symbols:"
      ]
    },
    {
      "cell_type": "code",
      "metadata": {
        "id": "1LzAb-exsTGJ"
      },
      "source": [
        "def tokenize_example(s, n=2):\n",
        "   if (n==1):    #uni-gram\n",
        "    return [START_SYMBOL] + s.split() + [END_SYMBOL]\n",
        "   elif (n==2):  #bi-gram\n",
        "    print (s)\n",
        "    lst = [''.join( i for i in s)]\n",
        "    print (lst)\n",
        "    bigrams = [str(b[0] + ' ' + b[1]) for l in lst for b in zip(l.split(\" \")[:-1], l.split(\" \")[1:])]\n",
        "    return [START_SYMBOL] + bigrams + [END_SYMBOL]\n",
        "   else:\n",
        "    return -1"
      ],
      "execution_count": null,
      "outputs": []
    },
    {
      "cell_type": "code",
      "metadata": {
        "id": "h4lymmvnsTGK",
        "outputId": "5acad362-77e7-433a-f210-dfbff74b95ca"
      },
      "source": [
        "x = dev_texts_train[377]\n",
        "y = tokenize_example(x, n=1)\n",
        "print (y)\n",
        "\n",
        "# y = tokenize_example(x, n=2)\n",
        "# print (y)"
      ],
      "execution_count": null,
      "outputs": [
        {
          "output_type": "stream",
          "text": [
            "['<s>', 'Olive', 'green', '</s>']\n"
          ],
          "name": "stdout"
        }
      ]
    },
    {
      "cell_type": "markdown",
      "metadata": {
        "id": "FJY6bUrtsTGK"
      },
      "source": [
        "__Your task__: Modify `tokenize_example` so that it does something more sophisticated with the input text. \n",
        "\n",
        "__Notes__:\n",
        "\n",
        "* There are useful ideas for this in [Monroe et al. 2017](https://transacl.org/ojs/index.php/tacl/article/view/1142)\n",
        "* There is no requirement that you do word-level tokenization. Sub-word and multi-word are options.\n",
        "* This question can interact with the size of your vocabulary (see just below), and in turn with decisions about how to use `UNK_SYMBOL`.\n",
        "\n",
        "__Important__: don't forget to add the start and end symbols, else the resulting models will definitely be terrible! The following test will check that your tokenizer has this property:"
      ]
    },
    {
      "cell_type": "code",
      "metadata": {
        "id": "VoY5ncZqsTGK"
      },
      "source": [
        "def test_tokenize_example(func):\n",
        "    s = \"A test string\"\n",
        "    result = func(s)\n",
        "    print (result)    \n",
        "    result = func(s, 2)\n",
        "    print (result)    \n",
        "    assert all(isinstance(tok, str) for tok in result), \\\n",
        "        \"The tokenizer must return a list of strings.\"\n",
        "    assert result[0] == START_SYMBOL, \\\n",
        "        \"The tokenizer must add START_SYMBOL as the first token.\"\n",
        "    assert result[-1] == END_SYMBOL, \\\n",
        "        \"The tokenizer must add END_SYMBOL as the final token.\""
      ],
      "execution_count": null,
      "outputs": []
    },
    {
      "cell_type": "code",
      "metadata": {
        "id": "OiFNsC5QsTGL",
        "outputId": "0a10e7c0-d919-4ee9-acf2-e1f2a538559e"
      },
      "source": [
        "test_tokenize_example(tokenize_example)"
      ],
      "execution_count": null,
      "outputs": [
        {
          "output_type": "stream",
          "text": [
            "A test string\n",
            "['A test string']\n",
            "['<s>', 'A test', 'test string', '</s>']\n",
            "A test string\n",
            "['A test string']\n",
            "['<s>', 'A test', 'test string', '</s>']\n"
          ],
          "name": "stdout"
        }
      ]
    },
    {
      "cell_type": "markdown",
      "metadata": {
        "id": "Y4_hD5jAsTGL"
      },
      "source": [
        "## Use the tokenizer"
      ]
    },
    {
      "cell_type": "markdown",
      "metadata": {
        "id": "RS3dQ55ysTGM"
      },
      "source": [
        "Once the tokenizer is working, run the following cell to tokenize your inputs:"
      ]
    },
    {
      "cell_type": "code",
      "metadata": {
        "id": "TYbnXh1XsTGM"
      },
      "source": [
        "dev_seqs_train = [tokenize_example(s) for s in dev_texts_train]\n",
        "# print (dev_seqs_train[0:10])\n",
        "# print (len(dev_seqs_train))\n",
        "dev_seqs_test = [tokenize_example(s) for s in dev_texts_test]\n"
      ],
      "execution_count": null,
      "outputs": []
    },
    {
      "cell_type": "markdown",
      "metadata": {
        "id": "Kp6tIEklsTGO"
      },
      "source": [
        "We use only the train set to derive a vocabulary for the model:"
      ]
    },
    {
      "cell_type": "code",
      "metadata": {
        "id": "okFHzfgRsTGO"
      },
      "source": [
        "# print (len(dev_seqs_train))\n",
        "# #prints 10417 list elements\n",
        "\n",
        "dev_vocab = sorted({w for toks in dev_seqs_train for w in toks})\n",
        "dev_vocab += [UNK_SYMBOL]\n",
        "\n",
        "\n",
        "# print (len(dev_vocab))\n",
        "# #prints 3305 elements\n",
        "\n",
        "# dev_vocab1 = [w for toks in dev_seqs_train for w in toks]\n",
        "# dev_vocab1 += [UNK_SYMBOL]\n",
        "# print (len(dev_vocab1))\n",
        "# #prints 32587 elements\n",
        "# print (type(dev_vocab1))"
      ],
      "execution_count": null,
      "outputs": []
    },
    {
      "cell_type": "markdown",
      "metadata": {
        "id": "smPV3EHjsTGO"
      },
      "source": [
        "It's important that the `UNK_SYMBOL` is included somewhere in this list. In test examples, words not seen in training will be mapped to `UNK_SYMBOL`. \n",
        "\n",
        "Conceptual note: If you model's vocab is the same as your train vocab, then `UNK_SYMBOL` will never be encountered during training, so it will be a random vector at test time."
      ]
    },
    {
      "cell_type": "code",
      "metadata": {
        "id": "9HLOcmcmsTGP",
        "outputId": "f1d1334f-dee6-4cd1-a382-f3ce6b326798"
      },
      "source": [
        "print (len(dev_vocab))"
      ],
      "execution_count": null,
      "outputs": [
        {
          "output_type": "stream",
          "text": [
            "3305\n"
          ],
          "name": "stdout"
        }
      ]
    },
    {
      "cell_type": "markdown",
      "metadata": {
        "id": "7nA0x-JmsTGP"
      },
      "source": [
        "## Question 2: Improve the color representations [1 point]\n",
        "\n",
        "This is the second required pipeline improvement for the assignment. \n",
        "\n",
        "The following functions do nothing at all to the raw input colors we get from the corpus. "
      ]
    },
    {
      "cell_type": "code",
      "metadata": {
        "id": "tNsiVb_YsTGQ"
      },
      "source": [
        "from colors import ColorsCorpusExample\n",
        "import numpy as np\n",
        "from scipy.fft import fft\n",
        "from itertools import product\n",
        "import colorsys\n",
        "import cmath\n",
        "\n",
        "def _convert_hls_to_hsv(normalize_colors, h, l, s):\n",
        "     if not normalize_colors:\n",
        "            h, l, s = _scale_color_rgb(h, l, s)\n",
        "     a ,b, c = colorsys.hls_to_rgb(h, l, s)\n",
        "     s_a, s_b, s_c = _scale_color_hsv(a, b, c)\n",
        "     return colorsys.rgb_to_hsv(s_a, s_b, s_c)\n",
        "\n",
        "def _scale_color_hsv(h, l, s):\n",
        "     return [h/360, l/200, s/200]\n",
        "\n",
        "def _scale_color_rgb(h, l, s):\n",
        "     return [h/360, l/100, s/100]\n",
        "        \n",
        "def hls_to_hsv(normalize_colors, colors):\n",
        "     print (colors)  \n",
        "     hsv = []        \n",
        "     for item in colors:\n",
        "            hsv.append(_convert_hls_to_hsv(normalize_colors, item[0], item[1], item[2]))      \n",
        "     return hsv      \n",
        "     \n",
        "def represent_color_context(colors):\n",
        "    \n",
        "     proj_54D = {}\n",
        "     proj_54D_lst = []\n",
        "    \n",
        "     hsv = hls_to_hsv(dev_corpus.normalize_colors, colors)    \n",
        "            \n",
        "     for color in hsv:    \n",
        "        \n",
        "       RealValList = []\n",
        "       ImagValList = []\n",
        "        \n",
        "       for j, k, l in product((0, 1, 2), repeat=3):  \n",
        "        \n",
        "         val = -1 * 2 * 3.14 * 1j  * (j * color[0] + k * color[1] + l * color[2])  \n",
        "         c_num = cmath.exp(val)       \n",
        "         RealValList.append(c_num.real)\n",
        "         ImagValList.append(c_num.imag)    \n",
        "        \n",
        "       proj_54D[color] = RealValList + ImagValList   # just collect it. Don't return\n",
        "       proj_54D_lst.append(RealValList + ImagValList)\n",
        "        \n",
        "     return proj_54D_lst       "
      ],
      "execution_count": null,
      "outputs": []
    },
    {
      "cell_type": "code",
      "metadata": {
        "id": "VUD9CQcesTGR",
        "outputId": "00a59e52-2d27-430e-fdf3-aa9ea0af23f6"
      },
      "source": [
        "colorLst_54D = represent_color_context(dev_rawcols_train[0])\n",
        "# print (colorLst_54D)"
      ],
      "execution_count": null,
      "outputs": [
        {
          "output_type": "stream",
          "text": [
            "[[0.19444444444444445, 0.5, 0.11], [0.7472222222222222, 0.5, 0.27], [0.2722222222222222, 0.5, 0.73]]\n"
          ],
          "name": "stdout"
        }
      ]
    },
    {
      "cell_type": "markdown",
      "metadata": {
        "id": "sZdaMEvrsTGS"
      },
      "source": [
        "__Your task__: Modify `represent_color_context` and/or `represent_color` to represent colors in a new way.\n",
        "    \n",
        "__Notes__:\n",
        "\n",
        "* You are not required to keep `represent_color`. This might be unnatural if you want to perform an operation on each color trio all at once.\n",
        "* For that matter, if you want to process all of the color contexts in the entire data set all at once, that is fine too, as long as you can also perform the operation at test time with an unknown number of examples being tested.\n",
        "\n",
        "* The Fourier-transform method of [Monroe et al. 2017](https://transacl.org/ojs/index.php/tacl/article/view/1142) is a proven choice for our task. __It is not required that you implement this.__ However, if you decide to, you might find that the overly terse presentation in the paper is an obstacle. They key thing to see is that the notation $\\hat{f}_{jkl}$ is meant to specify a full coordinate system. Thus, you might do something like\n",
        "\n",
        "  ```\n",
        "from itertools import product\n",
        "for j, k, l in product((0, 1, 2), repeat=3):    \n",
        "    f_jkl = ...\n",
        "```\n",
        "and collect these `f_jkl` values in a list of 27 values. Additionally, in Python, [`2j` produces a value with `real` and `imag` attributes](https://docs.python.org/3.7/library/cmath.html). Each element `f_jkl` should have these components. If you concatenate the `real` and `imag` parts of all the `f_jkl`, you will have a 54-dimensional representation, as in the paper. Remember to start with an HSV representation, and with $h$ in $[0, 360]$, $s$ in $[0, 200]$, and $v$ in $[0, 200]$ (or else do the scaling differently). Note that the values in our corpus are in HLS format, [which are easily converted to HSV](https://en.wikipedia.org/wiki/HSL_and_HSV#HSV_to_HSL).\n",
        "\n",
        "The following test seeks to ensure only that the output of your `represent_color_context` will be compatible with the models we are creating:"
      ]
    },
    {
      "cell_type": "code",
      "metadata": {
        "id": "obf4fUsvsTGT"
      },
      "source": [
        "def test_represent_color_context(func):\n",
        "    \"\"\"`func` should be `represent_color_context`\"\"\"\n",
        "    example = [\n",
        "        [0.786, 0.58, 0.87],\n",
        "        [0.689, 0.44, 0.92],\n",
        "        [0.628, 0.32, 0.81]]\n",
        "    result = func(example)\n",
        "    assert len(result) == len(example), \\\n",
        "        (\"Color context representations need to represent each color \"\n",
        "         \"separately. (We assume the final color is the target.)\")\n",
        "    for i, color in enumerate(result):\n",
        "        assert all(isinstance(x, float) for x in color), \\\n",
        "            (\"All color representations should be lists of floats. \"\n",
        "             \"Color {} is {}\".format(i, color))"
      ],
      "execution_count": null,
      "outputs": []
    },
    {
      "cell_type": "code",
      "metadata": {
        "id": "85RjYO0XsTGT",
        "outputId": "9b97a3f3-1440-4e66-932b-2e676f3bc729"
      },
      "source": [
        "test_represent_color_context(represent_color_context)"
      ],
      "execution_count": null,
      "outputs": [
        {
          "output_type": "stream",
          "text": [
            "[[0.786, 0.58, 0.87], [0.689, 0.44, 0.92], [0.628, 0.32, 0.81]]\n"
          ],
          "name": "stdout"
        }
      ]
    },
    {
      "cell_type": "markdown",
      "metadata": {
        "id": "lOCcYMc9sTGU"
      },
      "source": [
        "## Use the color representer"
      ]
    },
    {
      "cell_type": "markdown",
      "metadata": {
        "id": "nntprUT6sTGU"
      },
      "source": [
        "The following cell just runs your `represent_color_context` on the train and test sets:"
      ]
    },
    {
      "cell_type": "code",
      "metadata": {
        "id": "-SWwba_nsTGU"
      },
      "source": [
        "dev_cols_train = [represent_color_context(colors) for colors in dev_rawcols_train]\n",
        "dev_cols_test = [represent_color_context(colors) for colors in dev_rawcols_test]"
      ],
      "execution_count": null,
      "outputs": []
    },
    {
      "cell_type": "markdown",
      "metadata": {
        "id": "M0QW4wBxsTGZ"
      },
      "source": [
        "At this point, our preprocessing steps are complete, and we can fit a first model."
      ]
    },
    {
      "cell_type": "markdown",
      "metadata": {
        "id": "VQ5jsrAQsTGa"
      },
      "source": [
        "## Initial model\n",
        "\n",
        "The first model is configured right now to be a small model run for just a few iterations. It should be enough to get traction, but it's unlikely to be a great model. You are free to modify this configuration if you wish; it is here just for demonstration and testing:"
      ]
    },
    {
      "cell_type": "code",
      "metadata": {
        "id": "yt5M4cTMsTGa"
      },
      "source": [
        "dev_mod = ContextualColorDescriber(\n",
        "    dev_vocab,\n",
        "    early_stopping=True)"
      ],
      "execution_count": null,
      "outputs": []
    },
    {
      "cell_type": "code",
      "metadata": {
        "id": "41ymlIrUsTGa",
        "outputId": "b9f76f66-82ae-43f3-f7c1-ebe65a4610cf"
      },
      "source": [
        "print (dev_cols_train[0])\n",
        "\n",
        "if 'IS_GRADESCOPE_ENV' not in os.environ:\n",
        "    print (\"here\")\n",
        "    %time _ = dev_mod.fit(dev_cols_train, dev_seqs_train)\n",
        "else:\n",
        "    dev_mod.fit(dev_cols_train, dev_seqs_train)"
      ],
      "execution_count": null,
      "outputs": [
        {
          "output_type": "stream",
          "text": [
            "[[1.0, 0.9998481536785399, 0.99939266082877, -0.9724600717105572, -0.9763739044546826, -0.9799912196272856, 0.891357182142604, 0.899121120606095, 0.9066120026001635, -0.9005163935930985, -0.9079569140014504, -0.9151216945749314, 0.7743724603571989, 0.785280902883758, 0.795950861377486, -0.6055762030661863, -0.6193517322610911, -0.6329391688915281, 0.6218595502598409, 0.6354120177904704, 0.6487715153660745, -0.42221011888680193, -0.43794274879014594, -0.453542378702662, 0.1993054147193231, 0.21635165599669662, 0.23333219286786036, -0.0, -0.01742611791578899, -0.03484694364777229, -0.23306953668100427, -0.21608794205118953, -0.19904072310315093, 0.4533016367087115, 0.43769990916156254, 0.42196525537219426, -0.43482206115844624, -0.41906353016811515, -0.40317773266675583, 0.632730031403867, 0.619139647871197, 0.6053612361825276, -0.7957873222664087, -0.7851136425672309, -0.7742015296309492, 0.7831287887382435, 0.7721732756625568, 0.7609832592439911, -0.9064979953147125, -0.8990028636117524, -0.8912347113531491, 0.9799374223202003, 0.9763155027692058, 0.9723970833828511], [1.0, 0.9998012247251175, 0.9992049779236895, -0.9147227146206344, -0.906484430928914, -0.8978857738533241, 0.6734352892858849, 0.6585625741161574, 0.6434280470330338, -0.7080851909278196, -0.6938659074277194, -0.6793707771546583, 0.36236831030769, 0.3437136662936146, 0.3249223787225399, 0.04515214193353643, 0.06506051165911007, 0.08494301654250741, 0.0027692752225736165, -0.017168877646593434, -0.03710020501901501, 0.40154744623981015, 0.4197273168848843, 0.43774032470438096, -0.7373784153694993, -0.7506993437561619, -0.7637218312060035, -0.0, -0.01993767885575672, -0.03986743147632329, 0.40408211462159216, 0.42223924081435527, 0.4402285055648002, -0.7392461776326182, -0.7525259702983683, -0.765506595850915, 0.7061270157618339, 0.7201042303094098, 0.7337951670243377, -0.932034982006979, -0.9390744994956479, -0.9457406874007729, 0.9989801219638025, 0.9978813205099366, 0.9963858107885014, -0.9999961655500194, -0.9998526039573815, -0.9993115504123562, 0.9158382217500461, 0.9076502517272916, 0.8991014448479677, -0.6754798831550545, -0.6606440004147982, -0.6455454782889806], [1.0, 0.9996311627152208, 0.9985249229427685, 0.5542781165855037, 0.5766778552347221, 0.5986521932953064, -0.38555153894885347, -0.3603513317630825, -0.33488530256376164, -0.3851353920570021, -0.41005606062481403, -0.4346742412646095, 0.55465342023772, 0.5318514570577053, 0.5086571605830358, 0.9999998983111454, 0.9996433084672158, 0.9985493071760009, -0.7033414595701986, -0.6837769593670456, -0.6637080542897177, -0.9815114415035268, -0.986347494094736, -0.9904559432228041, -0.3847191668371982, -0.4096447032842801, -0.4342680552511916, -0.0, -0.02715766058805087, -0.054295287660517236, 0.8323315261807801, 0.8169716343190141, 0.8010090832585602, 0.9226863014124415, 0.932816658136299, 0.9422588997333895, -0.9228600813693804, -0.912060319904807, -0.9005877547363367, -0.8320814764304029, -0.8468376630887385, -0.8609691591384698, 0.00045097416632313895, -0.026706849996184667, -0.05384497319461373, 0.7108521585039063, 0.729691078360396, 0.7479917236647455, -0.1914034748839971, -0.1646773235543827, -0.13782969395099753, -0.9230336736371496, -0.9122451518485226, -0.9007836900101756]]\n",
            "here\n"
          ],
          "name": "stdout"
        },
        {
          "output_type": "stream",
          "text": [
            "Stopping after epoch 15. Validation score did not improve by tol=1e-05 for more than 10 epochs. Final error is 58.702409744262695"
          ],
          "name": "stderr"
        },
        {
          "output_type": "stream",
          "text": [
            "Wall time: 5min 23s\n"
          ],
          "name": "stdout"
        }
      ]
    },
    {
      "cell_type": "markdown",
      "metadata": {
        "id": "SiYCg0VmsTGa"
      },
      "source": [
        "The canonical bake-off evaluation function is `evaluate`. Our primary metric is `listener_accuracy`; the BLEU score is included as a check to ensure that your system is speaking English!"
      ]
    },
    {
      "cell_type": "code",
      "metadata": {
        "id": "58kjAD44sTGb",
        "outputId": "b3472c55-8469-4e50-94c4-523829864f67"
      },
      "source": [
        "dev_mod.evaluate(dev_cols_test, dev_seqs_test)"
      ],
      "execution_count": null,
      "outputs": [
        {
          "output_type": "execute_result",
          "data": {
            "text/plain": [
              "{'listener_accuracy': 0.38295421825511083, 'corpus_bleu': 0.5684820798781273}"
            ]
          },
          "metadata": {
            "tags": []
          },
          "execution_count": 157
        }
      ]
    },
    {
      "cell_type": "markdown",
      "metadata": {
        "id": "p0drgyw9sTGb"
      },
      "source": [
        "We can also see the model's predicted sequences given color context inputs:"
      ]
    },
    {
      "cell_type": "code",
      "metadata": {
        "id": "67tqyE3LsTGb",
        "outputId": "9492cb34-add0-46de-81d7-602bef3ab3c2"
      },
      "source": [
        "dev_mod.predict(dev_cols_test[:1])"
      ],
      "execution_count": null,
      "outputs": [
        {
          "output_type": "execute_result",
          "data": {
            "text/plain": [
              "[['<s>', '</s>']]"
            ]
          },
          "metadata": {
            "tags": []
          },
          "execution_count": 158
        }
      ]
    },
    {
      "cell_type": "code",
      "metadata": {
        "id": "A1_bvGnosTGb",
        "outputId": "9079f8b8-23bc-437f-e777-499b0bf3290f"
      },
      "source": [
        "dev_seqs_test[:1]"
      ],
      "execution_count": null,
      "outputs": [
        {
          "output_type": "execute_result",
          "data": {
            "text/plain": [
              "[['<s>', 'right side', 'side ###', '### purple', 'purple pinkish', '</s>']]"
            ]
          },
          "metadata": {
            "tags": []
          },
          "execution_count": 159
        }
      ]
    },
    {
      "cell_type": "markdown",
      "metadata": {
        "id": "IuxlgyvUsTGc"
      },
      "source": [
        "## Question 3: GloVe embeddings [1 point]\n",
        "\n",
        "The above model uses a random initial embedding, as configured by the decoder used by `ContextualColorDescriber`. This homework question asks you to consider using GloVe inputs. \n",
        "\n",
        "__Your task__: Complete `create_glove_embedding` so that it creates a GloVe embedding based on your model vocabulary. This isn't mean to be analytically challenging, but rather just to create a basis for you to try out other kinds of rich initialization."
      ]
    },
    {
      "cell_type": "code",
      "metadata": {
        "id": "58hYBPGbsTGc"
      },
      "source": [
        "GLOVE_HOME = os.path.join('data', 'glove.6B')"
      ],
      "execution_count": null,
      "outputs": []
    },
    {
      "cell_type": "code",
      "metadata": {
        "id": "OP8_MItZsTGc"
      },
      "source": [
        "def create_glove_embedding(vocab, glove_base_filename='glove.6B.50d.txt'):\n",
        "    # Use `utils.glove2dict` to read in the GloVe file:\n",
        "\n",
        "    ##### YOUR CODE HERE\n",
        "    GLOVE_HOME = os.path.join('data', 'glove.6B')\n",
        "    glove_lookup = utils.glove2dict(os.path.join(GLOVE_HOME, glove_base_filename))        \n",
        "    \n",
        "    # Use `utils.create_pretrained_embedding` to create the embedding.\n",
        "    # This function will, by default, ensure that START_TOKEN,\n",
        "    # END_TOKEN, and UNK_TOKEN are included in the embedding.\n",
        "\n",
        "    ##### YOUR CODE HERE\n",
        "    embedding, vocab =utils.create_pretrained_embedding(glove_lookup, vocab)\n",
        "    \n",
        "    # Be sure to return the embedding you create as well as the\n",
        "    # vocabulary returned by `utils.create_pretrained_embedding`,\n",
        "    # which is likely to have been modified from the input `vocab`.\n",
        "\n",
        "    ##### YOUR CODE HERE\n",
        "    return embedding, vocab"
      ],
      "execution_count": null,
      "outputs": []
    },
    {
      "cell_type": "code",
      "metadata": {
        "id": "Vt6xRkn5sTGc"
      },
      "source": [
        "def test_create_glove_embedding(func):\n",
        "    vocab = ['NLU', 'is', 'the', 'future', '.', '$UNK', '<s>', '</s>']\n",
        "    glove_embedding, glove_vocab = func(vocab, 'glove.6B.50d.txt')\n",
        "    assert isinstance(glove_embedding, np.ndarray), \\\n",
        "        \"Expected embedding type {}; got {}\".format(\n",
        "        glove_embedding.__class__.__name__, glove_embedding.__class__.__name__)\n",
        "    assert glove_embedding.shape == (8, 50), \\\n",
        "        \"Expected embedding shape (8, 50); got {}\".format(glove_embedding.shape)\n",
        "    assert glove_vocab == vocab, \\\n",
        "        \"Expected vocab {}; got {}\".format(vocab, glove_vocab)"
      ],
      "execution_count": null,
      "outputs": []
    },
    {
      "cell_type": "code",
      "metadata": {
        "id": "xnQlTJ-ysTGc"
      },
      "source": [
        "test_create_glove_embedding(create_glove_embedding)"
      ],
      "execution_count": null,
      "outputs": []
    },
    {
      "cell_type": "markdown",
      "metadata": {
        "id": "mnGXzPcLsTGd"
      },
      "source": [
        "## Try the GloVe representations"
      ]
    },
    {
      "cell_type": "markdown",
      "metadata": {
        "id": "GYnS6C-6sTGd"
      },
      "source": [
        "The extent to which GloVe is useful will depend heavily on how aligned your tokenization scheme is with the GloVe vocabulary. For example, if you did character-level tokenization, then the GloVe embedding space is not well-aligned with your tokenizer and using GloVe should have little no positive effect."
      ]
    },
    {
      "cell_type": "markdown",
      "metadata": {
        "id": "Bl5xE4kIsTGd"
      },
      "source": [
        "Let's see if GloVe helped for our development data:"
      ]
    },
    {
      "cell_type": "code",
      "metadata": {
        "id": "LT12nyYzsTGd"
      },
      "source": [
        "dev_glove_embedding, dev_glove_vocab = create_glove_embedding(dev_vocab)"
      ],
      "execution_count": null,
      "outputs": []
    },
    {
      "cell_type": "code",
      "metadata": {
        "id": "IEYQDznHsTGd",
        "outputId": "a7879cfc-890d-4481-ec1a-608b732c0a87"
      },
      "source": [
        "len(dev_vocab)"
      ],
      "execution_count": null,
      "outputs": [
        {
          "output_type": "execute_result",
          "data": {
            "text/plain": [
              "3305"
            ]
          },
          "metadata": {
            "tags": []
          },
          "execution_count": 487
        }
      ]
    },
    {
      "cell_type": "code",
      "metadata": {
        "id": "9zcXnc-6sTGe",
        "outputId": "15f2b4e7-18e2-4c15-d277-15c36ec8eb5f"
      },
      "source": [
        "len(dev_glove_vocab)"
      ],
      "execution_count": null,
      "outputs": [
        {
          "output_type": "execute_result",
          "data": {
            "text/plain": [
              "3305"
            ]
          },
          "metadata": {
            "tags": []
          },
          "execution_count": 488
        }
      ]
    },
    {
      "cell_type": "code",
      "metadata": {
        "id": "D8SGSZqfsTGe"
      },
      "source": [
        "dev_mod_glove = ContextualColorDescriber(\n",
        "    dev_glove_vocab,\n",
        "    embedding=dev_glove_embedding,\n",
        "    early_stopping=True)"
      ],
      "execution_count": null,
      "outputs": []
    },
    {
      "cell_type": "code",
      "metadata": {
        "id": "pSNerdIasTGf"
      },
      "source": [
        "_ = dev_mod_glove.fit(dev_cols_train, dev_seqs_train)"
      ],
      "execution_count": null,
      "outputs": []
    },
    {
      "cell_type": "code",
      "metadata": {
        "id": "GhgcyK89sTGf"
      },
      "source": [
        "dev_mod_glove.listener_accuracy(dev_cols_test, dev_seqs_test)"
      ],
      "execution_count": null,
      "outputs": []
    },
    {
      "cell_type": "markdown",
      "metadata": {
        "id": "RXk-Cyn9sTGf"
      },
      "source": [
        "You probably saw a small boost, assuming your tokeization scheme leads to good overlap with the GloVe vocabulary. The input representations are larger than in our previous model (at least as I configured things), so we would need to do more runs with higher `max_iter` values to see whether this is worthwhile overall."
      ]
    },
    {
      "cell_type": "markdown",
      "metadata": {
        "id": "lIRRJJpysTGf"
      },
      "source": [
        "## Question 4: Color context [3 points]\n",
        "\n",
        "The final required homework question is the most challenging, but it should set you up to think in much more flexible ways about the underlying model we're using.\n",
        "\n",
        "The question asks you to modify various model components in `torch_color_describer.py`. The section called [Modifying the core model](colors_overview.ipynb#Modifying-the-core-model) from the core unit notebook provides a number of examples illustrating the basic techniques, so you might review that material if you get stuck here.\n",
        "\n",
        "__Your task__: Building on ideas from [Monroe et al. 2017](https://transacl.org/ojs/index.php/tacl/article/view/1142), you will redesign the model so that the target color (the final one in the context) is appended to each input token that gets processed by the decoder. The question asks you to subclass the `Decoder` and `EncoderDecoder` from `torch_color_describer.py` so that you can build models that do this."
      ]
    },
    {
      "cell_type": "markdown",
      "metadata": {
        "id": "SK0D1BP-sTGg"
      },
      "source": [
        "__Step 1__: Modify the `Decoder` so that the input vector to the model at each timestep is not just a token representation `x` but the concatenation of `x` with the representation of the target color.\n",
        "\n",
        "__Notes__:\n",
        "\n",
        "* You might notice at this point that the original `Decoder.forward` method has an optional keyword argument `target_colors` that is passed to `Decoder.get_embeddings`. Because this is already in place, all you have to do is modify the `get_embeddings` method to use this argument.\n",
        "\n",
        "* The change affects the configuration of `self.rnn`, so you need to subclass the `__init__` method as well, so that its `input_size` argument accomodates the embedding as well as the color representations.\n",
        "\n",
        "* You can do the relevant operations efficiently in pure PyTorch using `repeat_interleave` and `cat`, but the important thing is to get a working implementation – you can always optimize the code later if the ideas prove useful to you. \n",
        "\n",
        "Here's skeleton code for you to flesh out:"
      ]
    },
    {
      "cell_type": "code",
      "metadata": {
        "id": "FR6UxcDusTGg"
      },
      "source": [
        "from torch_color_describer import Decoder\n",
        "import torch\n",
        "import torch.nn as nn\n",
        "\n",
        "class ColorContextDecoder(Decoder):\n",
        "    def __init__(self, color_dim, *args, **kwargs):\n",
        "        self.color_dim = color_dim\n",
        "        super().__init__(*args, **kwargs)\n",
        "\n",
        "        # Fix the `self.rnn` attribute:\n",
        "        ##### YOUR CODE HERE\n",
        "        self.rnn = nn.GRU(\n",
        "            input_size=self.embed_dim + self.color_dim,\n",
        "            hidden_size=self.hidden_dim,\n",
        "            batch_first=True)\n",
        "\n",
        "    def get_embeddings(self, word_seqs, target_colors=None):\n",
        "        \"\"\"\n",
        "        You can assume that `target_colors` is a tensor of shape\n",
        "        (m, n), where m is the length of the batch (same as\n",
        "        `word_seqs.shape[0]`) and n is the dimensionality of the\n",
        "        color representations the model is using. The goal is\n",
        "        to attached each color vector i to each of the tokens in\n",
        "        the ith sequence of (the embedded version of) `word_seqs`.\n",
        "\n",
        "        \"\"\"\n",
        "        ##### YOUR CODE HERE\n",
        "        temp = []\n",
        "        colors_row = -1\n",
        "        lst_embeddings = list(self.embedding.parameters())  \n",
        "        \n",
        "        \"\"\"\n",
        "        print (lst_embeddings)\n",
        "        for i in lst_embeddings:\n",
        "            emb_rows = i.size()[0]         \n",
        "        print (f\"emb_rows = {emb_rows}\")\n",
        "        \"\"\"\n",
        "        \n",
        "        batch_size = word_seqs.shape[0]\n",
        "        \n",
        "        \"\"\"\n",
        "        assert emb_rows == word_seqs.shape[1], \\\n",
        "               \"ERROR?: emb_rows {}; word_seqs.shape[1] {}\".format(emb_rows, word_seqs.shape[1])        \n",
        "        row_size = emb_rows\n",
        "        \"\"\"\n",
        "        \n",
        "        col_size = self.embed_dim + self.color_dim    \n",
        "        tensor_to_build = torch.zeros([batch_size, word_seqs.shape[1], col_size])  \n",
        "        \n",
        "        \"\"\"\n",
        "        print (f\"Shape of tensor_to_build (with concatenated color): {tensor_to_build.size()}\")\n",
        "        \"\"\"\n",
        "        \n",
        "        for row in word_seqs:              \n",
        "                        \n",
        "            colors_row +=1\n",
        "           \n",
        "            for rs, item in enumerate(row):  \n",
        "                row_to_extract = int(item)               \n",
        "                tensor_to_build[colors_row][rs] = torch.cat((lst_embeddings[0][row_to_extract], target_colors[colors_row]))   \n",
        "                \n",
        "        return tensor_to_build"
      ],
      "execution_count": null,
      "outputs": []
    },
    {
      "cell_type": "markdown",
      "metadata": {
        "id": "UgSHEjBOsTGg"
      },
      "source": [
        "Step 1 is the most demanding of the steps in terms of tensor wrangling. It's important to have a clear idea of what you are trying to achieve and to unit test `get_embeddings` so that you can check that it has realized your vision. The following test should help with that:"
      ]
    },
    {
      "cell_type": "code",
      "metadata": {
        "id": "caoDRtIfsTGh"
      },
      "source": [
        "def test_get_embeddings(decoder_class):\n",
        "    \"\"\"\n",
        "    It's assumed that the input to this will be `ColorContextDecoder`.\n",
        "    You pass in the class, and the function initalizes it with the test\n",
        "    parameters.\n",
        "    \"\"\"\n",
        "    dec = decoder_class(\n",
        "        color_dim=3,   # For these, we mainly want *different*\n",
        "        vocab_size=10, # dimensions so that we reliably get\n",
        "        embed_dim=4,   # dimensionality errors if something\n",
        "        hidden_dim=5)  # isn't working.\n",
        "\n",
        "    # This step just changes the embedding to one with values\n",
        "    # that are easy to inspect and definitely will not change\n",
        "    # between runs:\n",
        "    dec.embedding = nn.Embedding.from_pretrained(\n",
        "        torch.FloatTensor([\n",
        "            [10, 11, 12, 13],\n",
        "            [14, 15, 16, 17],\n",
        "            [18, 19, 20, 21]]))\n",
        "\n",
        "    # These are the incoming sequences -- lists of indices\n",
        "    # into the rows of `dec.embedding`:\n",
        "    word_seqs = torch.tensor([\n",
        "        [0,1,2],\n",
        "        [2,0,1]])\n",
        "\n",
        "    # Target colors as small floats that will be easy to track:\n",
        "    target_colors = torch.tensor([\n",
        "        [0.1, 0.2, 0.3],\n",
        "        [0.7, 0.8, 0.9]])\n",
        "\n",
        "    # The desired return value: one list of tensors for each of\n",
        "    # the two sequences in `word_seqs`. Each index is replaced\n",
        "    # with its vector from `dec.embedding` and has the\n",
        "    # corrresponding color from `target_colors` appended to it.\n",
        "    expected = torch.tensor([\n",
        "        [[10., 11., 12., 13.,  0.1,  0.2,  0.3],\n",
        "         [14., 15., 16., 17.,  0.1,  0.2,  0.3],\n",
        "         [18., 19., 20., 21.,  0.1,  0.2,  0.3]],\n",
        "\n",
        "        [[18., 19., 20., 21.,  0.7,  0.8,  0.9],\n",
        "         [10., 11., 12., 13.,  0.7,  0.8,  0.9],\n",
        "         [14., 15., 16., 17.,  0.7,  0.8,  0.9]]])\n",
        "\n",
        "    result = dec.get_embeddings(word_seqs, target_colors=target_colors)\n",
        "\n",
        "    assert expected.shape == result.shape, \\\n",
        "        \"Expected shape {}; got shape {}\".format(expected.shape, result.shape)\n",
        "\n",
        "    assert torch.all(expected.eq(result)), \\\n",
        "        (\"Your result has the desired shape but the values aren't correct. \"\n",
        "         \"Here's what your function creates; compare it with `expected` \"\n",
        "         \"from the test:\\n{}\".format(result))"
      ],
      "execution_count": null,
      "outputs": []
    },
    {
      "cell_type": "code",
      "metadata": {
        "id": "rKJ_kTWtsTGh"
      },
      "source": [
        "test_get_embeddings(ColorContextDecoder)"
      ],
      "execution_count": null,
      "outputs": []
    },
    {
      "cell_type": "code",
      "metadata": {
        "id": "bTBHlkBisTGh",
        "outputId": "c16f35a5-cdf2-4264-cab9-c9fc5dac4c40"
      },
      "source": [
        "def test_extraction():        \n",
        "    \n",
        "        color_seqs = torch.tensor([\n",
        "        [[10., 11., 12., 13.,  0.1,  0.2,  0.3],\n",
        "         [14., 15., 16., 17.,  0.1,  0.2,  0.3],\n",
        "         [18., 19., 20., 21.,  0.1,  0.2,  0.3]],\n",
        "\n",
        "        [[18., 19., 20., 21.,  0.7,  0.8,  0.9],\n",
        "         [10., 11., 12., 13.,  0.7,  0.8,  0.9],\n",
        "         [14., 15., 16., 17.,  0.7,  0.8,  0.9]]])\n",
        "\n",
        "        print (color_seqs.size())\n",
        "        m = color_seqs.size()[0]\n",
        "        color_dim = color_seqs.size()[2] #is color_dim the dimensionality of the color or the tensor which has color appended to it\n",
        "        target_colors = torch.zeros([m, 3])      \n",
        "        batch = -1\n",
        "        \n",
        "        for item in color_seqs:\n",
        "            batch += 1\n",
        "            for row in item:\n",
        "                target_colors[batch] = row[:][:][-3:] #hardcoded 3? Only last tensor written into target_colors remains(hack)\n",
        "        \n",
        "        print (f\"Calling forward with target_colors matrix =\\n {target_colors}\")\n",
        "\n",
        "test_extraction()"
      ],
      "execution_count": null,
      "outputs": [
        {
          "output_type": "stream",
          "text": [
            "torch.Size([2, 3, 7])\n",
            "Calling forward with target_colors matrix =\n",
            " tensor([[0.1000, 0.2000, 0.3000],\n",
            "        [0.7000, 0.8000, 0.9000]])\n"
          ],
          "name": "stdout"
        }
      ]
    },
    {
      "cell_type": "markdown",
      "metadata": {
        "id": "77bmxCk2sTGh"
      },
      "source": [
        "__Step 2__: Modify the `EncoderDecoder`. For this, you just need to make a small change to the `forward` method: extract the target colors from `color_seqs` and feed them to the decoder."
      ]
    },
    {
      "cell_type": "code",
      "metadata": {
        "id": "KqRQp8FOsTGi"
      },
      "source": [
        "from torch_color_describer import EncoderDecoder\n",
        "\n",
        "class ColorizedEncoderDecoder(EncoderDecoder):\n",
        "\n",
        "    def forward(self,\n",
        "            color_seqs,\n",
        "            word_seqs,\n",
        "            seq_lengths=None,\n",
        "            hidden=None,\n",
        "            targets=None):\n",
        "        if hidden is None:\n",
        "            hidden = self.encoder(color_seqs)\n",
        "\n",
        "        # Extract the target colors from `color_seqs` and\n",
        "        # feed them to the decoder, which already has a\n",
        "        # `target_colors` keyword.\n",
        "\n",
        "        ##### YOUR CODE HERE\n",
        "        \n",
        "        \"\"\"\n",
        "        \n",
        "        # Forward method of the EncoderDecoder calls the forward method of the Decoder.\n",
        "\n",
        "        Called: def forward(self, word_seqs, seq_lengths=None, hidden=None, target_colors=None):\n",
        "        Caller: output, hidden = self.decoder(word_seqs, seq_lengths=seq_lengths, hidden=hidden, target_colors=target_colors)\n",
        "        \n",
        "        There is not explicit call to the forward method: refer response to slack question\n",
        "        \n",
        "        target_colors : torch.FloatTensor\n",
        "            Dimension (m, c), where m is the number of examples and\n",
        "            c is the dimensionality of the color representations.\n",
        "            \n",
        "        color_seqs : torch.FloatTensor\n",
        "            Dimension (m, n, p), where m is the number of examples,\n",
        "            n is the number of colors in each context, and p is the\n",
        "            dimensionality of each color.\n",
        "            \n",
        "        word_seqs : torch.LongTensor\n",
        "            Dimension (m, k), where m is the number of examples and k\n",
        "            is the length of all the (padded) sequences in the batch.\n",
        "            \n",
        "        color_seqs : torch.FloatTensor\n",
        "            Dimension (m, n, p), where m is the number of examples,\n",
        "            n is the number of colors in each context, and p is the\n",
        "            dimensionality of each color.\n",
        "        \"\"\"\n",
        "\n",
        "        m = color_seqs.size()[0]\n",
        "        color_dim = color_seqs.size()[2] #is color_seqs.size()[2] the dimensionality of the color or the tensor which has color appended to it\n",
        "        target_colors = torch.zeros([m, color_dim]) #should you use color_dim instead, or is color_dim len = emb_dim + color_dim?     \n",
        "        batch = -1\n",
        "        for item in color_seqs:\n",
        "            batch += 1\n",
        "            for row in item:\n",
        "                target_colors[batch] = row[:][:][-color_dim:]           \n",
        "        output, hidden = self.decoder(\n",
        "           word_seqs, seq_lengths, hidden, target_colors)\n",
        "        \n",
        "        # Your decoder will return `output, hidden` pairs; the\n",
        "        # following will handle the two return situations that\n",
        "        # the code needs to consider -- training and prediction.\n",
        "        \n",
        "        if self.training:\n",
        "            return output\n",
        "        else:\n",
        "            return output, hidden    \n"
      ],
      "execution_count": null,
      "outputs": []
    },
    {
      "cell_type": "markdown",
      "metadata": {
        "id": "bQ6mCxaqsTGi"
      },
      "source": [
        "__Step 3__: Finally, as in the examples in [Modifying the core model](colors_overview.ipynb#Modifying-the-core-model), you need to modify the `build_graph` method of `ContextualColorDescriber` so that it uses your new `ColorContextDecoder` and `ColorizedEncoderDecoder`. Here's starter code:"
      ]
    },
    {
      "cell_type": "code",
      "metadata": {
        "id": "90tKwWLysTGi"
      },
      "source": [
        "from torch_color_describer import Encoder\n",
        "\n",
        "class ColorizedInputDescriber(ContextualColorDescriber):\n",
        "\n",
        "    def build_graph(self):\n",
        "\n",
        "        # We didn't modify the encoder, so this is\n",
        "        # just copied over from the original:\n",
        "        encoder = Encoder(\n",
        "            color_dim=self.color_dim,\n",
        "            hidden_dim=self.hidden_dim)\n",
        "\n",
        "        # Use your `ColorContextDecoder`, making sure\n",
        "        # to pass in all the keyword arguments coming\n",
        "        # from `ColorizedInputDescriber`:\n",
        "\n",
        "        ##### YOUR CODE HERE\n",
        "        decoder = ColorContextDecoder(\n",
        "            vocab_size=self.vocab_size,\n",
        "            embed_dim=self.embed_dim,\n",
        "            embedding=self.embedding,\n",
        "            hidden_dim=self.hidden_dim,\n",
        "            freeze_embedding=self.freeze_embedding,\n",
        "            color_dim=self.color_dim)  # The new piece is this argument.\n",
        "\n",
        "        # Return a `ColorizedEncoderDecoder` that uses\n",
        "        # your encoder and decoder:\n",
        "\n",
        "        ##### YOUR CODE HERE\n",
        "        return ColorizedEncoderDecoder(encoder, decoder)\n"
      ],
      "execution_count": null,
      "outputs": []
    },
    {
      "cell_type": "markdown",
      "metadata": {
        "id": "AIlOfg5TsTGi"
      },
      "source": [
        "That's it! Since these modifications are pretty intricate, you might want to use [a toy dataset](colors_overview.ipynb#Toy-problems-for-development-work) to debug it:"
      ]
    },
    {
      "cell_type": "code",
      "metadata": {
        "id": "8bCLMt9lsTGj"
      },
      "source": [
        "def test_full_system(describer_class):\n",
        "    toy_color_seqs, toy_word_seqs, toy_vocab = create_example_dataset(\n",
        "        group_size=50, vec_dim=2)\n",
        "\n",
        "    toy_color_seqs_train, toy_color_seqs_test, toy_word_seqs_train, toy_word_seqs_test = \\\n",
        "        train_test_split(toy_color_seqs, toy_word_seqs)\n",
        "\n",
        "    toy_mod = describer_class(toy_vocab)\n",
        "\n",
        "    _ = toy_mod.fit(toy_color_seqs_train, toy_word_seqs_train)\n",
        "\n",
        "    acc = toy_mod.listener_accuracy(toy_color_seqs_test, toy_word_seqs_test)\n",
        "\n",
        "    return acc"
      ],
      "execution_count": null,
      "outputs": []
    },
    {
      "cell_type": "code",
      "metadata": {
        "id": "xlFsqluasTGj",
        "outputId": "c74ae578-5041-4b99-cc20-0f3f980c8e67"
      },
      "source": [
        "test_full_system(ColorizedInputDescriber)"
      ],
      "execution_count": null,
      "outputs": [
        {
          "output_type": "stream",
          "text": [
            "Finished epoch 1000 of 1000; error is 0.1141517162322998"
          ],
          "name": "stderr"
        },
        {
          "output_type": "execute_result",
          "data": {
            "text/plain": [
              "1.0"
            ]
          },
          "metadata": {
            "tags": []
          },
          "execution_count": 201
        }
      ]
    },
    {
      "cell_type": "markdown",
      "metadata": {
        "id": "bhEWciDZsTGj"
      },
      "source": [
        "If that worked, then you can now try this model on SCC problems!"
      ]
    },
    {
      "cell_type": "markdown",
      "metadata": {
        "id": "ouRPafmesTGj"
      },
      "source": [
        "## Your original system [3 points]"
      ]
    },
    {
      "cell_type": "markdown",
      "metadata": {
        "id": "thq_ooKzsTGk"
      },
      "source": [
        "There are many options for your original system, which consists of the full pipeline – all preprocessing and modeling steps. You are free to use any model you like, as long as you subclass `ContextualColorDescriber` in a way that allows its `evaluate` method to behave in the expected way.\n",
        "\n",
        "So that we can evaluate models in a uniform way for the bake-off, we ask that you modify the function `my_original_system` below so that it accepts a trained instance of your model and does any preprocessing steps required by your model.\n",
        "\n",
        "If we seek to reproduce your results, we will rerun this entire notebook. Thus, it is fine if your `my_original_system` makes use of functions you wrote or modified above this cell."
      ]
    },
    {
      "cell_type": "code",
      "metadata": {
        "id": "L45xxL8WsTGk"
      },
      "source": [
        "def my_original_system(trained_model, color_seqs_test, texts_test):\n",
        "    \"\"\"\n",
        "    Feel free to modify this code to accommodate the needs of\n",
        "    your system. Just keep in mind that it will get raw corpus\n",
        "    examples as inputs for the bake-off.\n",
        "\n",
        "    \"\"\"\n",
        "    # `word_seqs_test` is a list of strings, so tokenize each of\n",
        "    # its elements:\n",
        "    tok_seqs = [tokenize_example(s) for s in texts_test]\n",
        "\n",
        "    col_seqs = [represent_color_context(colors)\n",
        "                for colors in color_seqs_test]\n",
        "\n",
        "\n",
        "    # Optionally include other preprocessing steps here. Note:\n",
        "    # DO NOT RETRAIN YOUR MODEL! It's a tempting step, but it's\n",
        "    # a mistake and will get you disqualified!\n",
        "\n",
        "\n",
        "    # The following core score calculations are required:\n",
        "    return trained_model.evaluate(col_seqs, tok_seqs)"
      ],
      "execution_count": null,
      "outputs": []
    },
    {
      "cell_type": "markdown",
      "metadata": {
        "id": "AVN_30AhsTGk"
      },
      "source": [
        "If `my_original_system` works on test sets you create from the corpus distribution, then it will work for the bake-off, so consider checking that. For example, this would check that `dev_mod` above passes muster:"
      ]
    },
    {
      "cell_type": "code",
      "metadata": {
        "id": "OFzVvpq0sTGk"
      },
      "source": [
        "my_original_system(dev_mod, dev_rawcols_test, dev_texts_test)"
      ],
      "execution_count": null,
      "outputs": []
    },
    {
      "cell_type": "markdown",
      "metadata": {
        "id": "SlPEkOy-sTGl"
      },
      "source": [
        "In the cell below, please provide a brief technical description of your original system, so that the teaching team can gain an understanding of what it does. This will help us to understand your code and analyze all the submissions to identify patterns and strategies. We also ask that you report the best **listener_accuracy** score your system got during development, just to help us understand how systems performed overall."
      ]
    },
    {
      "cell_type": "code",
      "metadata": {
        "id": "bd1ZFBaJsTGl"
      },
      "source": [
        "# PLEASE MAKE SURE TO INCLUDE THE FOLLOWING BETWEEN THE START AND STOP COMMENTS:\n",
        "#   1) Textual description of your system.\n",
        "#   2) The code for your original system.\n",
        "#   3) The score achieved by your system in place of MY_NUMBER.\n",
        "#        With no other changes to that line.\n",
        "#        You should report your score as a decimal value <=1.0\n",
        "# PLEASE MAKE SURE NOT TO DELETE OR EDIT THE START AND STOP COMMENTS\n",
        "\n",
        "# NOTE: MODULES, CODE AND DATASETS REQUIRED FOR YOUR ORIGINAL SYSTEM \n",
        "# SHOULD BE ADDED BELOW THE 'IS_GRADESCOPE_ENV' CHECK CONDITION. DOING\n",
        "# SO ABOVE THE CHECK MAY CAUSE THE AUTOGRADER TO FAIL.\n",
        "\n",
        "# START COMMENT: Enter your system description in this cell.\n",
        "# My peak score was: MY_NUMBER\n",
        "if 'IS_GRADESCOPE_ENV' not in os.environ:\n",
        "    pass\n",
        "\n",
        "# STOP COMMENT: Please do not remove this comment."
      ],
      "execution_count": null,
      "outputs": []
    },
    {
      "cell_type": "markdown",
      "metadata": {
        "id": "LThYK8LzsTGl"
      },
      "source": [
        "## Bakeoff [1 point]"
      ]
    },
    {
      "cell_type": "markdown",
      "metadata": {
        "id": "cZoAts6OsTGl"
      },
      "source": [
        "For the bake-off, we will release a test set. You will evaluate your custom model from the previous question on these new datasets using your `my_original_system` function. Rules:\n",
        "\n",
        "1. Only one evaluation is permitted.\n",
        "1. No additional system tuning is permitted once the bake-off has started.\n",
        "\n",
        "Systems will be ranked primarily by `listener_accuracy`, but we will also consider their `corpus_bleu` scores as reported by `my_original_system`. However, the BLEU score is just a simple check that your system is speaking some version of English that corresponds in some meaningful way to the gold descriptions, so you should concentrate on `listener_accuracy`.\n",
        "\n",
        "The cells below this one constitute your bake-off entry.\n",
        "\n",
        "People who enter will receive the additional homework point, and people whose systems achieve the top score will receive an additional 0.5 points. We will test the top-performing systems ourselves, and only systems for which we can reproduce the reported results will win the extra 0.5 points.\n",
        "\n",
        "Late entries will be accepted, but they cannot earn the extra 0.5 points. Similarly, you cannot win the bake-off unless your homework is submitted on time.\n",
        "\n",
        "The announcement will include the details on where to submit your entry."
      ]
    },
    {
      "cell_type": "code",
      "metadata": {
        "id": "E_zZUlpysTGm"
      },
      "source": [
        "# Enter your bake-off assessment code in this cell.\n",
        "# Please do not remove this comment.\n",
        "if 'IS_GRADESCOPE_ENV' not in os.environ:\n",
        "    pass\n",
        "    # Please enter your code in the scope of the above conditional.\n",
        "    ##### YOUR CODE HERE\n"
      ],
      "execution_count": null,
      "outputs": []
    },
    {
      "cell_type": "code",
      "metadata": {
        "id": "R37Dkl7BsTGm"
      },
      "source": [
        "# On an otherwise blank line in this cell, please enter\n",
        "# the return value of `my_original_system` from your\n",
        "# bake-off run. You can just paste it in.\n",
        "# Please do not remove this comment.\n",
        "if 'IS_GRADESCOPE_ENV' not in os.environ:\n",
        "    pass\n",
        "    # Please paste in your results in the scope of the above conditional.\n",
        "    ##### YOUR SCORE HERE\n"
      ],
      "execution_count": null,
      "outputs": []
    }
  ]
}